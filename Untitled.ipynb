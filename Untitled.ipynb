{
 "cells": [
  {
   "cell_type": "code",
   "execution_count": 1,
   "metadata": {},
   "outputs": [],
   "source": [
    "import random as rd\n",
    "import numpy as np \n",
    "import matplotlib.pyplot as plt \n",
    "import statistics as stat\n",
    "from math import *\n",
    "import pandas as pd\n",
    "from scipy.optimize import least_squares"
   ]
  },
  {
   "cell_type": "code",
   "execution_count": 28,
   "metadata": {},
   "outputs": [],
   "source": [
    "#objectif function\n",
    "\n",
    "def f(variables):\n",
    "    c1,c2,c3,c4,c5,c6,c7,c8, c9,c10=variables\n",
    "    a=(1-phi(c1))+2*(1-phi(c2))+3*(1-phi(c3))+4*(1-phi(c4))+5*(1-phi(c5))+6*(1-phi(c6))+7*(1-phi(c7))+8*(1-phi(c8))+9*(1-phi(c9))+10*(1-phi(c10))\n",
    "    return(a)\n",
    "def phi(k):\n",
    "    a=0\n",
    "    b=100\n",
    "    if(k<a):\n",
    "        c=0\n",
    "    if(a<=k<=b):\n",
    "        c=(k-a+1)/(b-a+1)\n",
    "    else:\n",
    "        c=1\n",
    "    return(c)\n",
    "   "
   ]
  },
  {
   "cell_type": "code",
   "execution_count": 57,
   "metadata": {},
   "outputs": [],
   "source": [
    "import  random\n",
    "\n",
    "def strategie1(M):\n",
    "    #je joue n'importe comment \n",
    "    random_mat=[]\n",
    "    for j in range(M):\n",
    "        random_list=[]\n",
    "        a=100\n",
    "        for i in range(0,9):\n",
    "            b=random.randint(0,a)\n",
    "            random_list.append(b)\n",
    "            a=a-b\n",
    "        random_list.append(100-sum(random_list))\n",
    "        random.shuffle(random_list)\n",
    "        random_mat.append(random_list)\n",
    "    return(random_mat)\n",
    "def strategie2(M):\n",
    "    #je joue maximum sur les premiers\n",
    "    random_mat=[]\n",
    "    for j in range(M):\n",
    "        \n",
    "        random_list=[]\n",
    "        a=80\n",
    "        for i in range(0,5):\n",
    "            b=random.randint(0,a)\n",
    "            random_list.append(b)\n",
    "            a=a-b\n",
    "\n",
    "        a=20\n",
    "        for i  in range(5,9):\n",
    "            b=random.randint(0,a)\n",
    "            random_list.append(b)\n",
    "            a=a-b\n",
    "        random_list.append(100-sum(random_list))    \n",
    "        #random.shuffle(random_list)\n",
    "        random_mat.append(random_list)\n",
    "    return(random_mat)\n",
    "    \n",
    "def strategie3(M):\n",
    "    #je joue maximum sur les premiers\n",
    "    random_mat=[]\n",
    "    for j in range(M):\n",
    "        \n",
    "        random_list=[]\n",
    "        a=20\n",
    "        for i in range(0,5):\n",
    "            b=random.randint(0,a)\n",
    "            random_list.append(b)\n",
    "            a=a-b\n",
    "\n",
    "        a=80\n",
    "        for i  in range(5,9):\n",
    "            b=random.randint(0,a)\n",
    "            random_list.append(b)\n",
    "            a=a-b\n",
    "        random_list.append(100-sum(random_list))    \n",
    "        #random.shuffle(random_list)\n",
    "        random_mat.append(random_list)\n",
    "    return(random_mat) "
   ]
  },
  {
   "cell_type": "code",
   "execution_count": 58,
   "metadata": {},
   "outputs": [],
   "source": [
    "a=strategie3(3)[1]"
   ]
  },
  {
   "cell_type": "code",
   "execution_count": 59,
   "metadata": {},
   "outputs": [],
   "source": [
    "def obj(C):\n",
    "   \n",
    "    a=(1-phi(C[0]))+2*(1-phi(C[1]))+3*(1-phi(C[2]))+4*(1-phi(C[3]))+5*(1-phi(C[4]))+6*(1-phi(C[5]))+7*(1-phi(C[6]))+8*(1-phi(C[7]))+9*(1-phi(C[8]))+10*(1-phi(C[9]))\n",
    "    b=0\n",
    "    for i in range(6):\n",
    "        c=0\n",
    "        for j in range(i,i+3):\n",
    "            c=c+phi(C[j])\n",
    "        b=1-c\n",
    "    a=a-b\n",
    "    return(a)       \n",
    "            "
   ]
  },
  {
   "cell_type": "code",
   "execution_count": 60,
   "metadata": {},
   "outputs": [
    {
     "data": {
      "text/plain": [
       "48.04950495049505"
      ]
     },
     "execution_count": 60,
     "metadata": {},
     "output_type": "execute_result"
    }
   ],
   "source": [
    "obj(a)"
   ]
  },
  {
   "cell_type": "code",
   "execution_count": 61,
   "metadata": {},
   "outputs": [
    {
     "data": {
      "text/plain": [
       "[[39, 1, 1, 0, 4, 24, 6, 0, 1, 24],\n",
       " [13, 9, 43, 3, 1, 1, 0, 26, 3, 1],\n",
       " [52, 0, 5, 1, 36, 1, 0, 5, 0, 0],\n",
       " [1, 0, 5, 1, 0, 3, 4, 1, 0, 85],\n",
       " [1, 0, 0, 0, 16, 57, 3, 3, 13, 7],\n",
       " [1, 0, 0, 53, 13, 0, 1, 31, 0, 1],\n",
       " [0, 1, 0, 13, 0, 63, 0, 20, 3, 0],\n",
       " [0, 3, 3, 0, 25, 5, 0, 47, 5, 12],\n",
       " [59, 0, 0, 0, 0, 7, 11, 3, 5, 15],\n",
       " [7, 0, 17, 0, 3, 1, 0, 45, 27, 0]]"
      ]
     },
     "execution_count": 61,
     "metadata": {},
     "output_type": "execute_result"
    }
   ],
   "source": [
    "strategie1(10)"
   ]
  },
  {
   "cell_type": "code",
   "execution_count": null,
   "metadata": {},
   "outputs": [],
   "source": []
  },
  {
   "cell_type": "code",
   "execution_count": null,
   "metadata": {},
   "outputs": [],
   "source": []
  }
 ],
 "metadata": {
  "kernelspec": {
   "display_name": "Python 3",
   "language": "python",
   "name": "python3"
  },
  "language_info": {
   "codemirror_mode": {
    "name": "ipython",
    "version": 3
   },
   "file_extension": ".py",
   "mimetype": "text/x-python",
   "name": "python",
   "nbconvert_exporter": "python",
   "pygments_lexer": "ipython3",
   "version": "3.8.5"
  }
 },
 "nbformat": 4,
 "nbformat_minor": 4
}
