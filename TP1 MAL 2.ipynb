{
 "cells": [
  {
   "cell_type": "code",
   "execution_count": null,
   "metadata": {},
   "outputs": [],
   "source": [
    "pip install --upgrade pip\n",
    "pip install yellowbrick"
   ]
  },
  {
   "cell_type": "code",
   "execution_count": 1,
   "metadata": {},
   "outputs": [],
   "source": [
    "import pandas as pd\n",
    "import matplotlib.pyplot as plt\n",
    "import numpy as np\n",
    "import scipy.stats\n",
    "from sklearn import mixture\n",
    "from scipy.stats import norm\n",
    "import math"
   ]
  },
  {
   "cell_type": "code",
   "execution_count": null,
   "metadata": {},
   "outputs": [],
   "source": []
  },
  {
   "cell_type": "code",
   "execution_count": null,
   "metadata": {},
   "outputs": [],
   "source": [
    " "
   ]
  },
  {
   "cell_type": "code",
   "execution_count": 2,
   "metadata": {},
   "outputs": [
    {
     "data": {
      "text/plain": [
       "array([[0.10306396-1.24742804j, 0.1502082 +0.5706074j ],\n",
       "       [0.22531231+0.8559111j , 0.32837626-0.39151694j]])"
      ]
     },
     "execution_count": 2,
     "metadata": {},
     "output_type": "execute_result"
    }
   ],
   "source": [
    "# to compute fractional power of a matix \n",
    "import numpy as np\n",
    "import random as rd\n",
    "from scipy.linalg import fractional_matrix_power\n",
    "import statspy\n",
    "A = np.array([[1, 2], [3, 4]])\n",
    "\n",
    "fractional_matrix_power(A, -0.5)\n",
    "\n",
    "# array([[ 0.10306396-1.24742804j,  0.15020820+0.5706074j ],\n",
    "#        [ 0.22531231+0.8559111j ,  0.32837626-0.39151694j]])"
   ]
  },
  {
   "cell_type": "code",
   "execution_count": 3,
   "metadata": {},
   "outputs": [
    {
     "data": {
      "text/plain": [
       "0.3989422804014327"
      ]
     },
     "execution_count": 3,
     "metadata": {},
     "output_type": "execute_result"
    }
   ],
   "source": [
    "norm.pdf(0, 0, 1)"
   ]
  },
  {
   "cell_type": "code",
   "execution_count": null,
   "metadata": {},
   "outputs": [],
   "source": []
  },
  {
   "cell_type": "code",
   "execution_count": 4,
   "metadata": {},
   "outputs": [
    {
     "data": {
      "text/plain": [
       "array([[254, 255, 254, ..., 172, 187, 178],\n",
       "       [255, 255, 255, ..., 177, 177, 177],\n",
       "       [255, 255, 255, ..., 187, 172, 172],\n",
       "       ...,\n",
       "       [ 95, 105, 106, ..., 202, 199, 197],\n",
       "       [ 95, 103, 106, ..., 195, 196, 194],\n",
       "       [ 95, 102, 106, ..., 195, 200, 199]])"
      ]
     },
     "execution_count": 4,
     "metadata": {},
     "output_type": "execute_result"
    }
   ],
   "source": [
    "tab=pd.read_csv('irm_thorax.txt',sep=';',header=None);\n",
    "\n",
    "tab=np.array(tab);\n",
    "tab"
   ]
  },
  {
   "cell_type": "code",
   "execution_count": null,
   "metadata": {},
   "outputs": [],
   "source": []
  },
  {
   "cell_type": "code",
   "execution_count": 5,
   "metadata": {},
   "outputs": [
    {
     "data": {
      "image/png": "[encoded data removed]",
      "text/plain": [
       "<Figure size 288x144 with 1 Axes>"
      ]
     },
     "metadata": {},
     "output_type": "display_data"
    }
   ],
   "source": [
    "figure=plt.figure(figsize=(4,2));plt.imshow(tab, cmap='gray');\n",
    "plt.xticks([], []);\n",
    "plt.yticks([], []);\n",
    "plt.show();"
   ]
  },
  {
   "cell_type": "code",
   "execution_count": 6,
   "metadata": {},
   "outputs": [
    {
     "data": {
      "image/png": "[encoded data removed]",
      "text/plain": [
       "<Figure size 432x288 with 1 Axes>"
      ]
     },
     "metadata": {
      "needs_background": "light"
     },
     "output_type": "display_data"
    }
   ],
   "source": [
    "n=len(tab);X=tab.reshape(n*n);\n",
    "plt.hist(X, range=(0, 255), bins=20, color='yellow', edgecolor='red');"
   ]
  },
  {
   "cell_type": "code",
   "execution_count": null,
   "metadata": {},
   "outputs": [],
   "source": []
  },
  {
   "cell_type": "markdown",
   "metadata": {},
   "source": [
    "ì observe that there seem to be two distributions on te histogram  "
   ]
  },
  {
   "cell_type": "markdown",
   "metadata": {},
   "source": [
    "## Mixture of models and the EM algo"
   ]
  },
  {
   "cell_type": "code",
   "execution_count": 7,
   "metadata": {},
   "outputs": [],
   "source": [
    "def Init_EM(x,k):\n",
    "    proportion=[1/k]*k\n",
    "    var=[1]*k\n",
    "    means=np.random.choice(x, k)\n",
    "    parameter={'proportions': proportion, 'moyenne':means, 'variance': var}\n",
    "    return(parameter)\n"
   ]
  },
  {
   "cell_type": "code",
   "execution_count": null,
   "metadata": {},
   "outputs": [],
   "source": []
  },
  {
   "cell_type": "code",
   "execution_count": 8,
   "metadata": {},
   "outputs": [
    {
     "data": {
      "text/plain": [
       "{'proportions': [0.5, 0.5], 'moyenne': array([ 86, 153]), 'variance': [1, 1]}"
      ]
     },
     "execution_count": 8,
     "metadata": {},
     "output_type": "execute_result"
    }
   ],
   "source": [
    "Init_EM(X,2)"
   ]
  },
  {
   "cell_type": "code",
   "execution_count": 9,
   "metadata": {},
   "outputs": [],
   "source": [
    "\n",
    "def E_EM(X,param):\n",
    "    K=len(param[\"moyenne\"])\n",
    "    nrow= len(X)\n",
    "    tik=np.zeros( (nrow, K) )\n",
    "    #c'est quoi tik : ws are the samples from the dataset, \n",
    "    #while columns represent every cluster, the elements of \n",
    "    #this matrix are interpreted as follows tik is the probability \n",
    "    #of sample i to be part of cluster k.\n",
    "    for k in range(K):\n",
    "        pik=param[\"proportions\"][k]\n",
    "        muk=param[\"moyenne\"][k]\n",
    "        sigk=param[\"variance\"][k]\n",
    "        for i in range(nrow):\n",
    "            tik[i,k]=pik*norm.pdf(X[i],muk,sigk)\n",
    "    a=np.sum(tik,axis=1)+0.00000001\n",
    "    for i in range(nrow):\n",
    "        for k in range(K):\n",
    "            tik[i,k]=tik[i,k]/a[i]\n",
    "    return(tik)"
   ]
  },
  {
   "cell_type": "code",
   "execution_count": 10,
   "metadata": {},
   "outputs": [
    {
     "data": {
      "text/plain": [
       "2"
      ]
     },
     "execution_count": 10,
     "metadata": {},
     "output_type": "execute_result"
    }
   ],
   "source": [
    "tik=E_EM(X,Init_EM(X,2))\n",
    "len(tik[2])"
   ]
  },
  {
   "cell_type": "code",
   "execution_count": 11,
   "metadata": {},
   "outputs": [],
   "source": [
    "def M_EM(x,param,tik):\n",
    "    K=len(tik[1])\n",
    "    muk=[0]*K\n",
    "    sigk=[0]*K\n",
    "    pi=[0]*K\n",
    "    nrow= len(X)\n",
    "    for k in range(K):\n",
    "        muk[k]=sum(tik[:,k]*np.transpose(x))/sum(tik[:,k])\n",
    "        sigk[k]=math.sqrt(sum(tik[:,k]*(x-muk[k])*np.transpose(x-muk[k])))\n",
    "        for i in range(nrow):\n",
    "            pi[k]=pi[k]+tik[i,k]\n",
    "        pi[k]=pi[k]/nrow\n",
    "    parameter={'proportions': pi, 'moyenne':muk, 'variance': sigk}\n",
    "    return(parameter)"
   ]
  },
  {
   "cell_type": "code",
   "execution_count": 12,
   "metadata": {},
   "outputs": [
    {
     "data": {
      "text/plain": [
       "{'proportions': [0.04989637329355567, 0.09258699829800056],\n",
       " 'moyenne': [170.8833243856826, 135.88254724853618],\n",
       " 'variance': [52.8180436253988, 69.90373535925423]}"
      ]
     },
     "execution_count": 12,
     "metadata": {},
     "output_type": "execute_result"
    }
   ],
   "source": [
    "M_EM(X,Init_EM(X,2),E_EM(X,Init_EM(X,2)))"
   ]
  },
  {
   "cell_type": "code",
   "execution_count": 13,
   "metadata": {},
   "outputs": [],
   "source": [
    "def EM(x,k):\n",
    "    param=Init_EM(x,k)\n",
    "    tik=E_EM(x , param)\n",
    "    paramnew=M_EM(x,param,tik)\n",
    "    while((abs(sum(param['proportions'])-sum(paramnew['proportions']))>0.001) or (abs(sum(param['moyenne'])-sum(paramnew['moyenne']))>0.001) or(abs(sum(param['variance'])-sum(paramnew['variance']))>0.001) ):\n",
    "        param=paramnew\n",
    "        paramnew=M_EM(x,param,tik)\n",
    "    return(paramnew)"
   ]
  },
  {
   "cell_type": "code",
   "execution_count": 14,
   "metadata": {},
   "outputs": [
    {
     "data": {
      "text/plain": [
       "{'proportions': [0.09728064885395153, 0.09258699829800056],\n",
       " 'moyenne': [248.2470506468683, 135.88254724853618],\n",
       " 'variance': [70.0860550047309, 69.90373535925423]}"
      ]
     },
     "execution_count": 14,
     "metadata": {},
     "output_type": "execute_result"
    }
   ],
   "source": [
    "EM(X,2)"
   ]
  },
  {
   "cell_type": "code",
   "execution_count": 15,
   "metadata": {},
   "outputs": [
    {
     "data": {
      "text/plain": [
       "array([0.51325, 0.48675])"
      ]
     },
     "execution_count": 15,
     "metadata": {},
     "output_type": "execute_result"
    }
   ],
   "source": [
    "from sklearn import mixture\n",
    "X2=X.reshape(-1, 1)\n",
    "modgmm=mixture.GaussianMixture(n_components=2, covariance_type='full');\n",
    "fitgmm=modgmm.fit(X2);\n",
    "\n",
    "predX=fitgmm.fit_predict(X2);\n",
    "imgGMMK2=predX.reshape(n,n);\n",
    "fitgmm.weights_\n",
    "\n",
    "\n",
    "\n",
    "\n",
    "\n",
    "#plt.hist(imgGMMK2, range=(0, 3), bins=20, edgecolor='red');"
   ]
  },
  {
   "cell_type": "code",
   "execution_count": 16,
   "metadata": {},
   "outputs": [
    {
     "data": {
      "text/plain": [
       "array([[227.54446705],\n",
       "       [139.24708055]])"
      ]
     },
     "execution_count": 16,
     "metadata": {},
     "output_type": "execute_result"
    }
   ],
   "source": [
    "fitgmm.means_\n",
    "fitgmm.covariances_\n",
    "fitgmm.weights_"
   ]
  },
  {
   "cell_type": "code",
   "execution_count": 17,
   "metadata": {},
   "outputs": [
    {
     "data": {
      "text/plain": [
       "array([[[371.3110405 ]],\n",
       "\n",
       "       [[686.48679279]]])"
      ]
     },
     "execution_count": 17,
     "metadata": {},
     "output_type": "execute_result"
    }
   ],
   "source": [
    "fitgmm.covariances_"
   ]
  },
  {
   "cell_type": "code",
   "execution_count": null,
   "metadata": {},
   "outputs": [],
   "source": []
  },
  {
   "cell_type": "code",
   "execution_count": 18,
   "metadata": {},
   "outputs": [
    {
     "data": {
      "image/png": "[encoded data removed]",
      "text/plain": [
       "<Figure size 396x144 with 2 Axes>"
      ]
     },
     "metadata": {
      "needs_background": "light"
     },
     "output_type": "display_data"
    }
   ],
   "source": [
    "figure=plt.figure(figsize=(5.5,2));\n",
    "plt.xticks([], []);\n",
    "plt.yticks([], []);\n",
    "ax=plt.subplot(1,2, 1);\n",
    "ax.imshow(tab, cmap='gray');\n",
    "ax.set_title('Original Image')\n",
    "ax=plt.subplot(1,2, 2)\n",
    "ax.imshow(imgGMMK2, cmap='Paired')\n",
    "ax.set_title('GMM Image Segmentation')\n",
    "plt.show();"
   ]
  },
  {
   "cell_type": "code",
   "execution_count": 19,
   "metadata": {},
   "outputs": [
    {
     "data": {
      "text/plain": [
       "array([254, 255, 254, ..., 195, 200, 199])"
      ]
     },
     "execution_count": 19,
     "metadata": {},
     "output_type": "execute_result"
    }
   ],
   "source": [
    "X"
   ]
  },
  {
   "cell_type": "code",
   "execution_count": 20,
   "metadata": {},
   "outputs": [
    {
     "data": {
      "image/png": "[encoded data removed]",
      "text/plain": [
       "<Figure size 396x144 with 2 Axes>"
      ]
     },
     "metadata": {
      "needs_background": "light"
     },
     "output_type": "display_data"
    }
   ],
   "source": [
    "from sklearn import mixture\n",
    "X2=X.reshape(-1, 1)# pour l'avoir en vectuer colonne\n",
    "modgmm=mixture.GaussianMixture(n_components=3, covariance_type='full');\n",
    "fitgmm=modgmm.fit(X2);\n",
    "\n",
    "predX=fitgmm.fit_predict(X2);\n",
    "imgGMMK3=predX.reshape(n,n);\n",
    "figure=plt.figure(figsize=(5.5,2));\n",
    "plt.xticks([], []);\n",
    "plt.yticks([], []);\n",
    "ax=plt.subplot(1,2, 1);\n",
    "ax.imshow(tab, cmap='gray');\n",
    "ax.set_title('Original Image')\n",
    "ax=plt.subplot(1,2, 2)\n",
    "ax.imshow(imgGMMK3, cmap='Paired')\n",
    "ax.set_title('GMM Image Segmentation with K=3')\n",
    "plt.show();"
   ]
  },
  {
   "cell_type": "code",
   "execution_count": 21,
   "metadata": {},
   "outputs": [
    {
     "data": {
      "text/plain": [
       "array([0.21017953, 0.37783362, 0.41198685])"
      ]
     },
     "execution_count": 21,
     "metadata": {},
     "output_type": "execute_result"
    }
   ],
   "source": [
    "fitgmm.weights_\n"
   ]
  },
  {
   "cell_type": "code",
   "execution_count": 22,
   "metadata": {},
   "outputs": [
    {
     "data": {
      "text/plain": [
       "array([[185.69965931],\n",
       "       [130.79355994],\n",
       "       [233.30172561]])"
      ]
     },
     "execution_count": 22,
     "metadata": {},
     "output_type": "execute_result"
    }
   ],
   "source": [
    "fitgmm.means_\n"
   ]
  },
  {
   "cell_type": "code",
   "execution_count": 23,
   "metadata": {},
   "outputs": [
    {
     "data": {
      "text/plain": [
       "array([[[579.61762919]],\n",
       "\n",
       "       [[477.69284694]],\n",
       "\n",
       "       [[239.91814456]]])"
      ]
     },
     "execution_count": 23,
     "metadata": {},
     "output_type": "execute_result"
    }
   ],
   "source": [
    "fitgmm.covariances_"
   ]
  },
  {
   "cell_type": "code",
   "execution_count": 24,
   "metadata": {},
   "outputs": [
    {
     "data": {
      "image/png": "[encoded data removed]",
      "text/plain": [
       "<Figure size 396x144 with 2 Axes>"
      ]
     },
     "metadata": {
      "needs_background": "light"
     },
     "output_type": "display_data"
    }
   ],
   "source": [
    "from sklearn import mixture\n",
    "X2=X.reshape(-1, 1)# pour l'avoir en vectuer colonne\n",
    "modgmm=mixture.GaussianMixture(n_components=5, covariance_type='full');\n",
    "fitgmm=modgmm.fit(X2);\n",
    "\n",
    "predX=fitgmm.fit_predict(X2);\n",
    "imgGMMK5=predX.reshape(n,n);\n",
    "figure=plt.figure(figsize=(5.5,2));\n",
    "plt.xticks([], []);\n",
    "plt.yticks([], []);\n",
    "ax=plt.subplot(1,2, 1);\n",
    "ax.imshow(tab, cmap='gray');\n",
    "ax.set_title('Original Image')\n",
    "ax=plt.subplot(1,2, 2)\n",
    "ax.imshow(imgGMMK5, cmap='Paired')\n",
    "ax.set_title('GMM Image Segmentation')\n",
    "plt.show();"
   ]
  },
  {
   "cell_type": "code",
   "execution_count": 25,
   "metadata": {},
   "outputs": [
    {
     "data": {
      "text/plain": [
       "array([0.14602304, 0.11427024, 0.24688241, 0.22907223, 0.26375208])"
      ]
     },
     "execution_count": 25,
     "metadata": {},
     "output_type": "execute_result"
    }
   ],
   "source": [
    "fitgmm.weights_\n"
   ]
  },
  {
   "cell_type": "code",
   "execution_count": 26,
   "metadata": {},
   "outputs": [
    {
     "data": {
      "text/plain": [
       "array([[168.42249408],\n",
       "       [105.58218349],\n",
       "       [212.8021437 ],\n",
       "       [137.30163086],\n",
       "       [242.34179116]])"
      ]
     },
     "execution_count": 26,
     "metadata": {},
     "output_type": "execute_result"
    }
   ],
   "source": [
    "fitgmm.means_\n"
   ]
  },
  {
   "cell_type": "code",
   "execution_count": 27,
   "metadata": {},
   "outputs": [
    {
     "data": {
      "text/plain": [
       "array([[[161.0407033 ]],\n",
       "\n",
       "       [[154.95019613]],\n",
       "\n",
       "       [[153.99214509]],\n",
       "\n",
       "       [[122.25569669]],\n",
       "\n",
       "       [[ 95.97289463]]])"
      ]
     },
     "execution_count": 27,
     "metadata": {},
     "output_type": "execute_result"
    }
   ],
   "source": [
    "\n",
    "fitgmm.covariances_"
   ]
  },
  {
   "cell_type": "code",
   "execution_count": 28,
   "metadata": {},
   "outputs": [],
   "source": [
    "from sklearn.cluster import KMeans\n",
    "modkmeans=KMeans(n_clusters=2, random_state=0)\n",
    "fitkmeans=modkmeans.fit(X2)"
   ]
  },
  {
   "cell_type": "code",
   "execution_count": 29,
   "metadata": {},
   "outputs": [
    {
     "data": {
      "text/plain": [
       "array([[226.36801836],\n",
       "       [136.76552931]])"
      ]
     },
     "execution_count": 29,
     "metadata": {},
     "output_type": "execute_result"
    }
   ],
   "source": [
    "fitkmeans.cluster_centers_"
   ]
  },
  {
   "cell_type": "code",
   "execution_count": 30,
   "metadata": {},
   "outputs": [
    {
     "data": {
      "image/png": "[encoded data removed]",
      "text/plain": [
       "<Figure size 396x216 with 2 Axes>"
      ]
     },
     "metadata": {
      "needs_background": "light"
     },
     "output_type": "display_data"
    },
    {
     "data": {
      "image/png": "[encoded data removed]",
      "text/plain": [
       "<Figure size 432x288 with 1 Axes>"
      ]
     },
     "metadata": {
      "needs_background": "light"
     },
     "output_type": "display_data"
    }
   ],
   "source": [
    "\n",
    "predX=fitkmeans.fit_predict(X2);\n",
    "imgkmeansK2=predX.reshape(n,n);\n",
    "figure=plt.figure(figsize=(5.5,3));\n",
    "plt.xticks([], []);\n",
    "plt.yticks([], []);\n",
    "ax=plt.subplot(1,3, 1);\n",
    "ax.imshow(tab, cmap='gray');\n",
    "ax.set_title('Original Image')\n",
    "ax=plt.subplot(1,3, 2)\n",
    "ax.imshow(imgGMMK2, cmap='Paired')\n",
    "ax.set_title('GMM Image Segmentation')\n",
    "plt.show();\n",
    "ax=plt.subplot(1,3, 3)\n",
    "ax.imshow(imgkmeansK2, cmap='Paired')\n",
    "ax.set_title('Kmeans Image Segmentation')\n",
    "plt.show();"
   ]
  },
  {
   "cell_type": "code",
   "execution_count": null,
   "metadata": {},
   "outputs": [],
   "source": []
  },
  {
   "cell_type": "markdown",
   "metadata": {},
   "source": [
    "# spectral clustering"
   ]
  },
  {
   "cell_type": "code",
   "execution_count": 31,
   "metadata": {},
   "outputs": [],
   "source": [
    "import numpy as np\n",
    "import matplotlib.pyplot as plt\n",
    "from sklearn import cluster, datasets\n",
    "from sklearn.preprocessing import StandardScaler\n",
    "from matplotlib.colors import ListedColormap\n",
    "import pandas as pd\n",
    "from scipy.spatial import distance_matrix\n",
    "import math"
   ]
  },
  {
   "cell_type": "code",
   "execution_count": 32,
   "metadata": {},
   "outputs": [
    {
     "data": {
      "text/plain": [
       "Text(0.5, 0, 'x2')"
      ]
     },
     "execution_count": 32,
     "metadata": {},
     "output_type": "execute_result"
    },
    {
     "data": {
      "image/png": "[encoded data removed]",
      "text/plain": [
       "<Figure size 432x288 with 1 Axes>"
      ]
     },
     "metadata": {
      "needs_background": "light"
     },
     "output_type": "display_data"
    }
   ],
   "source": [
    "nsub=150;\n",
    "my2circles=datasets.make_circles(n_samples=2*nsub, factor=.5, noise=.025)\n",
    "X,y=my2circles;\n",
    "X=StandardScaler().fit_transform(X)\n",
    "plt.scatter(X[:, 0], X[:, 1], s=10,c=y, cmap='Paired')\n",
    "plt.xlabel(\"x1\");plt.xlabel(\"x2\")"
   ]
  },
  {
   "cell_type": "code",
   "execution_count": 33,
   "metadata": {},
   "outputs": [
    {
     "data": {
      "text/plain": [
       "300"
      ]
     },
     "execution_count": 33,
     "metadata": {},
     "output_type": "execute_result"
    }
   ],
   "source": [
    "len(my2circles[1])"
   ]
  },
  {
   "cell_type": "code",
   "execution_count": 34,
   "metadata": {},
   "outputs": [],
   "source": [
    "gaussian=np.random.multivariate_normal([0,0], [[0.001,0],[0,0.001]], 150)"
   ]
  },
  {
   "cell_type": "code",
   "execution_count": 35,
   "metadata": {},
   "outputs": [
    {
     "data": {
      "text/plain": [
       "<matplotlib.collections.PathCollection at 0x7f85c161d890>"
      ]
     },
     "execution_count": 35,
     "metadata": {},
     "output_type": "execute_result"
    },
    {
     "data": {
      "image/png": "[encoded data removed]",
      "text/plain": [
       "<Figure size 432x288 with 1 Axes>"
      ]
     },
     "metadata": {
      "needs_background": "light"
     },
     "output_type": "display_data"
    }
   ],
   "source": [
    "nsub=150;\n",
    "my2circles=datasets.make_circles(n_samples=2*nsub, factor=.5, noise=.025)\n",
    "X,y=my2circles;\n",
    "X=StandardScaler().fit_transform(X)\n",
    "plt.scatter(X[:, 0], X[:, 1], s=10,c=y, cmap='Paired')\n",
    "plt.xlabel(\"x1\");plt.xlabel(\"x2\")\n",
    "plt.scatter(gaussian[:, 0], gaussian[:, 1], s=10,color=\"pink\")"
   ]
  },
  {
   "cell_type": "code",
   "execution_count": 36,
   "metadata": {},
   "outputs": [],
   "source": [
    "X=np.concatenate((X,gaussian),axis=0)"
   ]
  },
  {
   "cell_type": "code",
   "execution_count": 37,
   "metadata": {},
   "outputs": [
    {
     "data": {
      "text/plain": [
       "450"
      ]
     },
     "execution_count": 37,
     "metadata": {},
     "output_type": "execute_result"
    }
   ],
   "source": [
    "len(X[:, 0])"
   ]
  },
  {
   "cell_type": "code",
   "execution_count": 38,
   "metadata": {},
   "outputs": [],
   "source": [
    "df=pd.DataFrame(X);\n",
    "Z=distance_matrix(df.values, df.values)"
   ]
  },
  {
   "cell_type": "code",
   "execution_count": 39,
   "metadata": {},
   "outputs": [
    {
     "data": {
      "image/png": "[encoded data removed]",
      "text/plain": [
       "<Figure size 720x432 with 1 Axes>"
      ]
     },
     "metadata": {
      "needs_background": "light"
     },
     "output_type": "display_data"
    }
   ],
   "source": [
    "from sklearn.cluster import KMeans\n",
    "import numpy as np\n",
    "import pandas as pd\n",
    "\n",
    "import matplotlib.pyplot as plt\n",
    "import seaborn as sns\n",
    "sns.set_style('darkgrid', {'axes.facecolor': '.9'})\n",
    "sns.set_palette(palette='deep')\n",
    "sns_c = sns.color_palette(palette='deep')\n",
    "%matplotlib inline\n",
    "\n",
    "from pandas.plotting import register_matplotlib_converters\n",
    "register_matplotlib_converters()\n",
    "inertias = []\n",
    "\n",
    "k_candidates = range(1, 10)\n",
    "\n",
    "for k in k_candidates:\n",
    "    k_means = KMeans(random_state=42, n_clusters=k)\n",
    "    k_means.fit(df)\n",
    "    inertias.append(k_means.inertia_)\n",
    "\n",
    "fig, ax = plt.subplots(figsize=(10, 6))\n",
    "sns.scatterplot(x=k_candidates, y = inertias, s=80, ax=ax)\n",
    "sns.scatterplot(x=[k_candidates[2]], y = [inertias[2]], color=sns_c[3], s=150, ax=ax)\n",
    "sns.lineplot(x=k_candidates, y = inertias, alpha=0.5, ax=ax)\n",
    "ax.set(title='Inertia K-Means', ylabel='inertia', xlabel='k');"
   ]
  },
  {
   "cell_type": "code",
   "execution_count": 40,
   "metadata": {},
   "outputs": [
    {
     "data": {
      "image/png": "[encoded data removed]",
      "text/plain": [
       "<Figure size 576x396 with 2 Axes>"
      ]
     },
     "metadata": {},
     "output_type": "display_data"
    },
    {
     "data": {
      "text/plain": [
       "<matplotlib.axes._subplots.AxesSubplot at 0x7f85cad956d0>"
      ]
     },
     "execution_count": 40,
     "metadata": {},
     "output_type": "execute_result"
    }
   ],
   "source": [
    "from sklearn.cluster import KMeans\n",
    "from sklearn.datasets import make_blobs\n",
    "\n",
    "from yellowbrick.cluster import KElbowVisualizer\n",
    "\n",
    "# Generate synthetic dataset with 8 random clusters\n",
    "#X, y = make_blobs(n_samples=1000, n_features=12, centers=8, random_state=42)\n",
    "\n",
    "# Instantiate the clustering model and visualizer\n",
    "model = KMeans()\n",
    "visualizer = KElbowVisualizer(model, k=(4,12))\n",
    "\n",
    "visualizer.fit(df)        # Fit the data to the visualizer\n",
    "visualizer.show()        # Finalize and render the figure"
   ]
  },
  {
   "cell_type": "code",
   "execution_count": null,
   "metadata": {},
   "outputs": [],
   "source": [
    "list(df.columns)"
   ]
  },
  {
   "cell_type": "code",
   "execution_count": null,
   "metadata": {},
   "outputs": [],
   "source": [
    "fig, ax = plt.subplots()\n",
    "sns.scatterplot(x=0, y=1, hue='cluster', data=df, ax=ax)\n",
    "ax.set(title='Radius Feature (K-Means)');"
   ]
  },
  {
   "cell_type": "code",
   "execution_count": null,
   "metadata": {},
   "outputs": [],
   "source": [
    "k_means = KMeans(random_state=25, n_clusters=3)\n",
    "k_means.fit(df)\n",
    "cluster = k_means.predict(df)\n",
    "\n",
    "cluster = ['k-means_c_' + str(c) for c in cluster]\n",
    "\n",
    "fig, ax = plt.subplots()\n",
    "sns.scatterplot(x=0, y=1, data=df.assign(cluster = cluster), hue='cluster', ax=ax)\n",
    "ax.set(title='K-Means Clustering');"
   ]
  },
  {
   "cell_type": "code",
   "execution_count": null,
   "metadata": {},
   "outputs": [],
   "source": [
    "sigma=0.1\n",
    "W=Z\n",
    "for i in range(Z.shape[0]):\n",
    "    for j in range (Z.shape[1]):\n",
    "        W[i,j]=math.exp((-Z[i,j]**2)/(2*sigma**2))\n"
   ]
  },
  {
   "cell_type": "code",
   "execution_count": null,
   "metadata": {},
   "outputs": [],
   "source": [
    "D=np.diag([1]*Z.shape[0])\n",
    "D"
   ]
  },
  {
   "cell_type": "code",
   "execution_count": null,
   "metadata": {},
   "outputs": [],
   "source": [
    "sum(W[0,:])"
   ]
  },
  {
   "cell_type": "code",
   "execution_count": null,
   "metadata": {},
   "outputs": [],
   "source": [
    "for i in range(Z.shape[0]):\n",
    "        D[i,i]=sum(W[i,:])"
   ]
  },
  {
   "cell_type": "code",
   "execution_count": null,
   "metadata": {},
   "outputs": [],
   "source": [
    "I=np.diag([1]*Z.shape[0])\n",
    "L=I-np.dot(np.dot(fractional_matrix_power(D, -0.5),W),fractional_matrix_power(D, -0.5))"
   ]
  },
  {
   "cell_type": "code",
   "execution_count": null,
   "metadata": {},
   "outputs": [],
   "source": [
    "# L denotes the laplacian matrix, as previously defined\n",
    "U, E, V=np.linalg.svd(L, full_matrices=True)"
   ]
  },
  {
   "cell_type": "code",
   "execution_count": null,
   "metadata": {},
   "outputs": [],
   "source": [
    "len(V)"
   ]
  },
  {
   "cell_type": "code",
   "execution_count": null,
   "metadata": {},
   "outputs": [],
   "source": [
    "V.shape"
   ]
  },
  {
   "cell_type": "code",
   "execution_count": null,
   "metadata": {},
   "outputs": [],
   "source": [
    "np.diag(E)"
   ]
  },
  {
   "cell_type": "code",
   "execution_count": null,
   "metadata": {},
   "outputs": [],
   "source": [
    "E"
   ]
  },
  {
   "cell_type": "code",
   "execution_count": null,
   "metadata": {},
   "outputs": [],
   "source": [
    "K=3 # les vecteurs sont dans \n",
    "#l'ordre decroissant du plus grand au plus petit \n",
    "#donc je prend les 3 dernier vecteur\n",
    "\n",
    "U1=U[:,449]\n",
    "U2=U[:,448]\n",
    "U3=U[:,447]"
   ]
  },
  {
   "cell_type": "code",
   "execution_count": null,
   "metadata": {},
   "outputs": [],
   "source": [
    "L-np.dot(np.dot(U,np.diag(E)),V) #test pour voir que L= U*E*V"
   ]
  },
  {
   "cell_type": "code",
   "execution_count": null,
   "metadata": {},
   "outputs": [],
   "source": [
    "len(U1)\n",
    "for i in range(len(U1)):\n",
    "    a=math.sqrt(U1[i]**2+U2[i]**2+U3[i]**2)\n",
    "    U1[i]=U1[i]/a\n",
    "    U2[i]=U2[i]/a\n",
    "    U3[i]=U3[i]/a"
   ]
  },
  {
   "cell_type": "code",
   "execution_count": null,
   "metadata": {},
   "outputs": [],
   "source": [
    "X=range(0,450)\n",
    "x1=range(0,150)\n",
    "x2=range(150,300)\n",
    "x3=range(300,450)\n",
    "c1 = ['blue' if x in x1  else  'green' if x in x2 else 'red' for x in X]\n",
    "\n",
    "plt.scatter(X, U1, c=c1)\n"
   ]
  },
  {
   "cell_type": "code",
   "execution_count": null,
   "metadata": {},
   "outputs": [],
   "source": [
    "\n",
    "# création de la fenêtre graphique 1\n",
    "\n",
    "plt.figure(1,figsize=(10,4))\n",
    "plt.gcf().subplots_adjust(left = 0.125, bottom = 0.2, right = 1.5,\n",
    "                          top = 0.9, wspace = 0.5, hspace = 0)\n",
    "\n",
    "# division de la fenêtre graphique en 1 ligne, 3 colonnes,\n",
    "# graphique en position 1\n",
    "# puis caractéristiques de ce graphique\n",
    "\n",
    "plt.subplot(1,3,1)\n",
    "plt.scatter(X, U1, c=c1)\n",
    "plt.title('eigen vector U1')\n",
    "plt.grid()\n",
    "\n",
    "\n",
    "\n",
    "# division de la fenêtre graphique en 1 ligne, 3 colonnes,\n",
    "# graphique en position 2\n",
    "# puis caractéristiques de ce graphique\n",
    "\n",
    "plt.subplot(1,3,2)\n",
    "plt.scatter(X, U2, c=c1)\n",
    "plt.title('eigen vector U2')\n",
    "plt.grid()\n",
    "\n",
    "\n",
    "# division de la fenêtre graphique en 1 ligne, 3 colonnes,\n",
    "# graphique en position 3\n",
    "# puis caractéristiques de ce graphique\n",
    "\n",
    "plt.subplot(1,3,3)\n",
    "\n",
    "plt.scatter(X, U3, c=c1)\n",
    "plt.title('eigen vector U3')\n",
    "plt.grid()\n",
    "\n",
    "\n",
    "plt.show()\n"
   ]
  },
  {
   "cell_type": "code",
   "execution_count": null,
   "metadata": {},
   "outputs": [],
   "source": [
    "U=np.transpose(np.array([U1,U2,U3]))"
   ]
  },
  {
   "cell_type": "code",
   "execution_count": null,
   "metadata": {},
   "outputs": [],
   "source": [
    "fig, ax = plt.subplots(figsize=(10, 8))\n",
    "sns.heatmap(U, ax=ax, cmap='viridis_r')\n",
    "ax.set(title='Eigenvectors Generating the Kernel of the Graph Laplacian');"
   ]
  },
  {
   "cell_type": "code",
   "execution_count": null,
   "metadata": {},
   "outputs": [],
   "source": [
    "def run_k_means(df, n_clusters):\n",
    "    \"\"\"K-means clustering.\"\"\"\n",
    "    k_means = KMeans(random_state=25, n_clusters=n_clusters)\n",
    "    k_means.fit(df)\n",
    "    cluster = k_means.predict(df)\n",
    "    return cluster\n",
    "\n",
    "cluster = run_k_means(U, n_clusters=3)"
   ]
  },
  {
   "cell_type": "code",
   "execution_count": null,
   "metadata": {},
   "outputs": [],
   "source": [
    "from mpl_toolkits.mplot3d import Axes3D\n",
    "\n",
    "fig = plt.figure()\n",
    "ax = fig.add_subplot(111, projection='3d')\n",
    "ax.scatter(\n",
    "    xs=U1, \n",
    "    ys=U2, \n",
    "    zs=U3,\n",
    "    c=[{0: sns_c[0], 1: sns_c[1], 2: sns_c[2]}.get(c) for c in cluster]\n",
    ")\n",
    "ax.set_title('Small Eigenvectors Clusters', x=0.2);"
   ]
  },
  {
   "cell_type": "code",
   "execution_count": null,
   "metadata": {},
   "outputs": [],
   "source": [
    "df['cluster'] = ['c_' + str(c) for c in cluster]\n",
    "\n",
    "fig, ax = plt.subplots()\n",
    "sns.scatterplot(x=0, y=1, data=df, hue='cluster', ax=ax)\n",
    "ax.set(title='Spectral Clustering');"
   ]
  },
  {
   "cell_type": "code",
   "execution_count": null,
   "metadata": {},
   "outputs": [],
   "source": [
    "from sklearn.cluster import SpectralClustering\n",
    "spec_cl = SpectralClustering(\n",
    "    n_clusters=3, \n",
    "    random_state=42, \n",
    "    n_neighbors=8, \n",
    "    affinity='nearest_neighbors'\n",
    ")\n",
    "\n",
    "df['cluster'] = spec_cl.fit_predict(df[[0, 1]])\n",
    "df['cluster'] = ['c_' + str(c) for c in df['cluster']]\n",
    "\n",
    "fig, ax = plt.subplots()\n",
    "sns.scatterplot(x=0, y=1, data=df, hue='cluster', ax=ax)\n",
    "ax.set(title='Spectral Clustering - Scikit Learn');"
   ]
  },
  {
   "cell_type": "code",
   "execution_count": null,
   "metadata": {},
   "outputs": [],
   "source": [
    "\n",
    "df = df.assign(r2 = lambda x: np.power(x[0], 2) + np.power(x[1], 2))\n"
   ]
  },
  {
   "cell_type": "code",
   "execution_count": null,
   "metadata": {},
   "outputs": [],
   "source": [
    "k_means = KMeans(random_state=25, n_clusters=3)\n",
    "k_means.fit(df[['r2']])\n",
    "cluster = k_means.predict(df[['r2']])\n",
    "\n",
    "data_df = df.assign(cluster = ['k-means_c_' + str(c) for c in cluster])\n",
    "\n",
    "fig, ax = plt.subplots()\n",
    "sns.scatterplot(x='r2', y='r2', hue='cluster', data=df, ax=ax)\n",
    "ax.set(title='Radius Feature (K-Means)');"
   ]
  },
  {
   "cell_type": "code",
   "execution_count": null,
   "metadata": {},
   "outputs": [],
   "source": [
    "plt.scatter(U[:, 0], U[:, 1], s=10)\n",
    "plt.xlabel(\"x1\");plt.xlabel(\"x2\")\n",
    "#plt.scatter(U, gaussian[:, 1], s=10,color=\"pink\")\n"
   ]
  },
  {
   "cell_type": "code",
   "execution_count": null,
   "metadata": {},
   "outputs": [],
   "source": [
    "plt.scatter(U[:,0],U[:,2])"
   ]
  },
  {
   "cell_type": "code",
   "execution_count": null,
   "metadata": {},
   "outputs": [],
   "source": [
    "from sklearn.cluster import KMeans\n",
    "modkmeans=KMeans(n_clusters=3, random_state=0)\n",
    "fitkmeans=modkmeans.fit(U)"
   ]
  },
  {
   "cell_type": "code",
   "execution_count": null,
   "metadata": {},
   "outputs": [],
   "source": [
    "y_km=fitkmeans.fit_predict(U);\n",
    "plt.plot(predX[:,1],predX[:,0] )\n"
   ]
  },
  {
   "cell_type": "code",
   "execution_count": null,
   "metadata": {},
   "outputs": [],
   "source": [
    "fitkmeans.cluster_centers_"
   ]
  },
  {
   "cell_type": "code",
   "execution_count": null,
   "metadata": {},
   "outputs": [],
   "source": [
    "# plot the 3 clusters\n",
    "plt.scatter(\n",
    "    U[y_km == 0, 0], U[y_km == 0, 1],\n",
    "    s=50, c='lightgreen',\n",
    "    marker='s', edgecolor='black',\n",
    "    label='cluster 1'\n",
    ")\n",
    "\n",
    "plt.scatter(\n",
    "    U[y_km == 1, 0], U[y_km == 1, 1],\n",
    "    s=50, c='orange',\n",
    "    marker='o', edgecolor='black',\n",
    "    label='cluster 2'\n",
    ")\n",
    "\n",
    "plt.scatter(\n",
    "    U[y_km == 2, 0], U[y_km == 2, 1],\n",
    "    s=50, c='lightblue',\n",
    "    marker='v', edgecolor='black',\n",
    "    label='cluster 3'\n",
    ")\n",
    "\n",
    "# plot the centroids\n",
    "plt.scatter(\n",
    "    fitkmeans.cluster_centers_[:, 0], fitkmeans.cluster_centers_[:, 1],\n",
    "    s=250, marker='*',\n",
    "    c='red', edgecolor='black',\n",
    "    label='centroids'\n",
    ")\n",
    "plt.legend(scatterpoints=1)\n",
    "plt.grid()\n",
    "plt.show()"
   ]
  },
  {
   "cell_type": "markdown",
   "metadata": {},
   "source": [
    "#effect of sigma "
   ]
  },
  {
   "cell_type": "code",
   "execution_count": null,
   "metadata": {},
   "outputs": [],
   "source": [
    "sigma=0.5\n",
    "W=Z\n",
    "for i in range(Z.shape[0]):\n",
    "    for j in range (Z.shape[1]):\n",
    "        W[i,j]=math.exp((-Z[i,j]**2)/(2*sigma**2))\n",
    "\n"
   ]
  },
  {
   "cell_type": "code",
   "execution_count": 42,
   "metadata": {},
   "outputs": [],
   "source": [
    "#hierarchical clustering\n",
    "n=len(tab);X=tab.reshape(n*n);\n",
    "from sklearn.cluster import AgglomerativeClustering\n",
    "from sklearn.cluster import AgglomerativeClustering\n",
    "modHAC=AgglomerativeClustering(n_clusters=2).fit(tab)"
   ]
  },
  {
   "cell_type": "code",
   "execution_count": 47,
   "metadata": {},
   "outputs": [
    {
     "data": {
      "image/png": "[encoded data removed]",
      "text/plain": [
       "<Figure size 396x144 with 3 Axes>"
      ]
     },
     "metadata": {},
     "output_type": "display_data"
    }
   ],
   "source": [
    "predX=modHAC.fit_predict(X2);\n",
    "imghac=predX.reshape(n,n);\n",
    "figure=plt.figure(figsize=(5.5,2));\n",
    "plt.xticks([], []);\n",
    "plt.yticks([], []);\n",
    "ax=plt.subplot(1,3, 1);\n",
    "ax.imshow(tab, cmap='gray');\n",
    "ax.set_title('Original Image')\n",
    "ax=plt.subplot(1,3, 2)\n",
    "ax.imshow(imgkmeansK2, cmap='Paired')\n",
    "ax.set_title('KM Image Segmentation')\n",
    "ax=plt.subplot(1,3, 3)\n",
    "ax.imshow(imghac, cmap='Paired')\n",
    "ax.set_title('HAC Image Segmentation')\n",
    "plt.show();"
   ]
  },
  {
   "cell_type": "code",
   "execution_count": null,
   "metadata": {},
   "outputs": [],
   "source": []
  }
 ],
 "metadata": {
  "kernelspec": {
   "display_name": "Python 3",
   "language": "python",
   "name": "python3"
  },
  "language_info": {
   "codemirror_mode": {
    "name": "ipython",
    "version": 3
   },
   "file_extension": ".py",
   "mimetype": "text/x-python",
   "name": "python",
   "nbconvert_exporter": "python",
   "pygments_lexer": "ipython3",
   "version": "3.7.4"
  }
 },
 "nbformat": 4,
 "nbformat_minor": 2
}
